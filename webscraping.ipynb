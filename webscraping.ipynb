{
 "cells": [
  {
   "cell_type": "code",
   "execution_count": 1,
   "metadata": {},
   "outputs": [],
   "source": [
    "# Import libraries\n",
    "import requests\n",
    "from bs4 import BeautifulSoup as bs\n",
    "import pandas as pd\n",
    "import seaborn as sns \n",
    "import matplotlib.pyplot as plt\n"
   ]
  },
  {
   "cell_type": "code",
   "execution_count": 2,
   "metadata": {},
   "outputs": [
    {
     "data": {
      "text/html": [
       "<div>\n",
       "<style scoped>\n",
       "    .dataframe tbody tr th:only-of-type {\n",
       "        vertical-align: middle;\n",
       "    }\n",
       "\n",
       "    .dataframe tbody tr th {\n",
       "        vertical-align: top;\n",
       "    }\n",
       "\n",
       "    .dataframe thead th {\n",
       "        text-align: right;\n",
       "    }\n",
       "</style>\n",
       "<table border=\"1\" class=\"dataframe\">\n",
       "  <thead>\n",
       "    <tr style=\"text-align: right;\">\n",
       "      <th></th>\n",
       "      <th>Car</th>\n",
       "      <th>Price</th>\n",
       "    </tr>\n",
       "  </thead>\n",
       "  <tbody>\n",
       "    <tr>\n",
       "      <th>0</th>\n",
       "      <td>2018\\n        Mercedes-Benz\\n       \\n        ...</td>\n",
       "      <td>Rp\\n        479.000.000</td>\n",
       "    </tr>\n",
       "    <tr>\n",
       "      <th>1</th>\n",
       "      <td>2019\\n        Toyota\\n       \\n        AGYA\\n ...</td>\n",
       "      <td>Rp\\n        111.000.000</td>\n",
       "    </tr>\n",
       "    <tr>\n",
       "      <th>2</th>\n",
       "      <td>2017\\n        Honda\\n       \\n        JAZZ\\n  ...</td>\n",
       "      <td>Rp\\n        210.000.000</td>\n",
       "    </tr>\n",
       "    <tr>\n",
       "      <th>3</th>\n",
       "      <td>2021\\n        Honda\\n       \\n        HR-V\\n  ...</td>\n",
       "      <td>Rp\\n        241.000.000</td>\n",
       "    </tr>\n",
       "    <tr>\n",
       "      <th>4</th>\n",
       "      <td>2018\\n        Honda\\n       \\n        BRIO\\n  ...</td>\n",
       "      <td>Rp\\n        136.000.000</td>\n",
       "    </tr>\n",
       "  </tbody>\n",
       "</table>\n",
       "</div>"
      ],
      "text/plain": [
       "                                                 Car                    Price\n",
       "0  2018\\n        Mercedes-Benz\\n       \\n        ...  Rp\\n        479.000.000\n",
       "1  2019\\n        Toyota\\n       \\n        AGYA\\n ...  Rp\\n        111.000.000\n",
       "2  2017\\n        Honda\\n       \\n        JAZZ\\n  ...  Rp\\n        210.000.000\n",
       "3  2021\\n        Honda\\n       \\n        HR-V\\n  ...  Rp\\n        241.000.000\n",
       "4  2018\\n        Honda\\n       \\n        BRIO\\n  ...  Rp\\n        136.000.000"
      ]
     },
     "execution_count": 2,
     "metadata": {},
     "output_type": "execute_result"
    }
   ],
   "source": [
    "page = 1\n",
    "url = f'https://www.carsome.id/en/buy-car?pageNo={page}'\n",
    "\n",
    "cars_list = []\n",
    "\n",
    "\n",
    "for page in range(1,9):\n",
    "    html_page = requests.get(url).text\n",
    "    soup = bs(html_page, 'html.parser')\n",
    "    cars_cards = soup.find_all('div', class_ = 'list-card__item')\n",
    "    for car in cars_cards:\n",
    "        car_name = car.find('a', class_ = 'mod-b-card__title')\n",
    "        if not car_name == None:\n",
    "            car_name = car_name.text.strip()\n",
    "        else:\n",
    "            car_name = \"\"\n",
    "        \n",
    "        car_price = car.find('div', class_ = 'mod-card__price__total')\n",
    "        if not car_price == None:\n",
    "            car_price = car_price.text.strip()\n",
    "        else:\n",
    "            car_price = \"\"\n",
    "        cars_list.append((car_name, car_price))\n",
    "    page += 1  \n",
    "df = pd.DataFrame(cars_list, columns = ['Car', 'Price'])\n",
    "df.head()"
   ]
  },
  {
   "cell_type": "code",
   "execution_count": 3,
   "metadata": {},
   "outputs": [],
   "source": [
    "#Clean the data\n",
    "\n",
    "# Clean Car and Price column\n",
    "df['Car'] = df['Car'].str.replace('\\n', ' ')\n",
    "df['Price'] = df['Price'].str.replace('\\n', ' ')\n",
    "\n",
    "# Trim extra spaces\n",
    "df['Car'] = df['Car'].str.replace(r'\\s+', ' ', regex=True)\n",
    "df['Car'] = df['Car'].str.strip()\n",
    "\n",
    "# Create Year Column\n",
    "df['Year'] = df['Car'].str[:4]\n",
    "df['Car'] = df['Car'].str[5:]\n",
    "\n",
    "# Clear empty rows\n",
    "df = df[df['Year'] != ''].reset_index(drop=True)\n",
    "\n",
    "# Create Merk Column\n",
    "df['Brand'] = df['Car'].str.split(' ').str[0]\n",
    "\n",
    "# change Year from string to integer\n",
    "df['Year'] = df['Year'].astype(int)"
   ]
  },
  {
   "cell_type": "code",
   "execution_count": 4,
   "metadata": {},
   "outputs": [
    {
     "data": {
      "text/html": [
       "<div>\n",
       "<style scoped>\n",
       "    .dataframe tbody tr th:only-of-type {\n",
       "        vertical-align: middle;\n",
       "    }\n",
       "\n",
       "    .dataframe tbody tr th {\n",
       "        vertical-align: top;\n",
       "    }\n",
       "\n",
       "    .dataframe thead th {\n",
       "        text-align: right;\n",
       "    }\n",
       "</style>\n",
       "<table border=\"1\" class=\"dataframe\">\n",
       "  <thead>\n",
       "    <tr style=\"text-align: right;\">\n",
       "      <th></th>\n",
       "      <th>Car</th>\n",
       "      <th>Price</th>\n",
       "      <th>Year</th>\n",
       "      <th>Brand</th>\n",
       "    </tr>\n",
       "  </thead>\n",
       "  <tbody>\n",
       "    <tr>\n",
       "      <th>0</th>\n",
       "      <td>Mercedes-Benz GLA 200 AMG 1.6</td>\n",
       "      <td>Rp         479.000.000</td>\n",
       "      <td>2018</td>\n",
       "      <td>Mercedes-Benz</td>\n",
       "    </tr>\n",
       "    <tr>\n",
       "      <th>1</th>\n",
       "      <td>Toyota AGYA G 1.2</td>\n",
       "      <td>Rp         111.000.000</td>\n",
       "      <td>2019</td>\n",
       "      <td>Toyota</td>\n",
       "    </tr>\n",
       "    <tr>\n",
       "      <th>2</th>\n",
       "      <td>Honda JAZZ RS 1.5</td>\n",
       "      <td>Rp         210.000.000</td>\n",
       "      <td>2017</td>\n",
       "      <td>Honda</td>\n",
       "    </tr>\n",
       "    <tr>\n",
       "      <th>3</th>\n",
       "      <td>Honda HR-V S 1.5</td>\n",
       "      <td>Rp         241.000.000</td>\n",
       "      <td>2021</td>\n",
       "      <td>Honda</td>\n",
       "    </tr>\n",
       "    <tr>\n",
       "      <th>4</th>\n",
       "      <td>Honda BRIO SATYA E 1.2</td>\n",
       "      <td>Rp         136.000.000</td>\n",
       "      <td>2018</td>\n",
       "      <td>Honda</td>\n",
       "    </tr>\n",
       "  </tbody>\n",
       "</table>\n",
       "</div>"
      ],
      "text/plain": [
       "                             Car                   Price  Year          Brand\n",
       "0  Mercedes-Benz GLA 200 AMG 1.6  Rp         479.000.000  2018  Mercedes-Benz\n",
       "1              Toyota AGYA G 1.2  Rp         111.000.000  2019         Toyota\n",
       "2              Honda JAZZ RS 1.5  Rp         210.000.000  2017          Honda\n",
       "3               Honda HR-V S 1.5  Rp         241.000.000  2021          Honda\n",
       "4         Honda BRIO SATYA E 1.2  Rp         136.000.000  2018          Honda"
      ]
     },
     "execution_count": 4,
     "metadata": {},
     "output_type": "execute_result"
    }
   ],
   "source": [
    "# Check the data\n",
    "df.head()"
   ]
  },
  {
   "cell_type": "code",
   "execution_count": 5,
   "metadata": {},
   "outputs": [
    {
     "data": {
      "text/plain": [
       "(144, 4)"
      ]
     },
     "execution_count": 5,
     "metadata": {},
     "output_type": "execute_result"
    }
   ],
   "source": [
    "# Total row and column\n",
    "df.shape"
   ]
  },
  {
   "cell_type": "code",
   "execution_count": 6,
   "metadata": {},
   "outputs": [
    {
     "data": {
      "image/png": "[encoded data removed]",
      "text/plain": [
       "<Figure size 800x600 with 1 Axes>"
      ]
     },
     "metadata": {},
     "output_type": "display_data"
    }
   ],
   "source": [
    "# Number of car per brand\n",
    "plt.figure(figsize=(8, 6))\n",
    "ax = sns.countplot(x =df['Brand'], data = df, order=df['Brand'].value_counts().index) \n",
    "ax.bar_label(ax.containers[0])\n",
    "plt.xticks(rotation=45)\n",
    "plt.show()"
   ]
  },
  {
   "cell_type": "code",
   "execution_count": 7,
   "metadata": {},
   "outputs": [],
   "source": [
    "# create csv file\n",
    "df.to_csv('car.csv', encoding='utf-8')"
   ]
  }
 ],
 "metadata": {
  "kernelspec": {
   "display_name": "Python 3",
   "language": "python",
   "name": "python3"
  },
  "language_info": {
   "codemirror_mode": {
    "name": "ipython",
    "version": 3
   },
   "file_extension": ".py",
   "mimetype": "text/x-python",
   "name": "python",
   "nbconvert_exporter": "python",
   "pygments_lexer": "ipython3",
   "version": "3.11.4"
  }
 },
 "nbformat": 4,
 "nbformat_minor": 2
}
